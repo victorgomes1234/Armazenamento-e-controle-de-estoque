{
  "cells": [
    {
      "metadata": {
        "trusted": true
      },
      "cell_type": "code",
      "source": "# Importando a biblioteca sys para fazer o programa terminar assim que for acionado.\nimport sys\n\nfrom tkinter import messagebox\n\n# importando a biblioteca que faz a conexão do python com banco de dados SQLite.\nimport sqlite3\n\n# Estabelecendo a conexão com o banco de dados:\nconnection = sqlite3.connect(\"mydatabase.db\")\n\n# Criando o cursor que é usado para executar comandos dentro do banco de dados atravez do python:\ncursor = connection.cursor()\n\n\n\n#Criando a tabela(que devem estar previamente cadastrados para o funcionamento do sistema)\ncursor.execute(\"\"\"CREATE TABLE nota_entrega\n                 (nfe, barcode,\n                  nome,quantidade)\n              \"\"\")\n\n#Inserindo os dados(que devem estar previamente cadastrados para o funcionamento do sistema) nas tabelas\ncursor.execute(\"INSERT INTO nota_entrega VALUES('123','348','Parafuso','2')\")\n\nprint('{:=^10}'.format(\"Bem vindo a entrada de mercadorias!\"))\n\n# Variavel que vai ser inserido o número da nota que vai ser dada a entrada no sistema.\nnfe = input(\"Qual nota deve ser dada a entrada: \")\n\n# Executando o cursor criado para selecionar a nota referida no variavel que puxa a NF.\ncursor.execute(f\"SELECT barcode, quantidade FROM nota_entrega WHERE nfe = {nfe}\")\n\n#Variavel que vai puxar todos os dados da tabela selecionada.\nrecord = cursor.fetchall()\n\n#Execução da conferencia de nota fiscal.\n len(record) == 0:\n    print(\"Não encontrado\")\n    nfe = input(\"Qual nota deve ser dada a entrada: \")\n    cursor.execute(f\"SELECT barcode, quantidade FROM nota WHERE nfe = {nfe}\")\n\nelse:\n    print('Nota encontrada')\n\n# Looping criado para verificação dos itens contidos na nota(quantidade e código de barras)\ncode = ''\nwhile True:\n    code = input('Qual o código do produto: ')\n    if code == \"Fim\":\n        break\n    found = False\n    for linha in record:\n        if linha[\"barcode\"] == code:\n            found = True\n            linha[\"quantidade\"] -= 1\n    if not found:\n        print('Item não encontra, sistema encerrado, verifique a nota.')\n        sys.exit()\n\nfor linha in record:\n  if linha[\"quantidade\"] != 0:\n      print('Alguns itens não conferem com a nota, verifique.')\n      sys.exit()\n\nprint('Nota correta. Liberado para entrega')\nconnection.commit()",
      "execution_count": null,
      "outputs": []
    }
  ],
  "metadata": {
    "kernelspec": {
      "name": "python36",
      "display_name": "Python 3.6",
      "language": "python"
    },
    "language_info": {
      "mimetype": "text/x-python",
      "nbconvert_exporter": "python",
      "name": "python",
      "pygments_lexer": "ipython3",
      "version": "3.6.6",
      "file_extension": ".py",
      "codemirror_mode": {
        "version": 3,
        "name": "ipython"
      }
    }
  },
  "nbformat": 4,
  "nbformat_minor": 1
}