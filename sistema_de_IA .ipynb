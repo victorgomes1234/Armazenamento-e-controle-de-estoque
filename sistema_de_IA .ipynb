{
  "cells": [
    {
      "metadata": {
        "trusted": true
      },
      "cell_type": "code",
      "source": "import os.path\nimport sys\n\n\nprint('Sitema de verificação cega iniciado!')\nprint('Digite o arquivo da nota no campo para da entrada.')\n\nnfe = input('Digite a note na qual quer da entrada: ');\n\ncheckPath = os.path.exists(f'{nfe}')\n\nwhile checkPath == False:\n    nfe = input('Nota náo encontrada, Digite a nota: ')\n    checkPath = os.path.exists(f'{nfe}')\nelse:\n    print('Nota encontrada')\n\nopenFile = open(f\"{nfe}\")\nreader = openFile.read()\nquantidade = reader[4:6]\nbarcode = reader[0:3]\ncode=0\nfound = True\n\nwhile True:\n    code = int(input('Qual o código do produto: '))\n    if code == 0:\n        break\n        found = False\n\n    for linha in reader:\n        if barcode == code:\n            found = True\n            quantidade -= 1\n    if code not in barcode:\n        print('Item não encontra, sistema encerrado, verifique a nota.')\n        sys.exit()\n\nfor linha in reader:\n  if quantidade != 0:\n      print('Alguns itens não conferem com a nota, verifique.')\n      sys.exit()\n\nprint('Nota correta. Liberado para entrega')\n\n\n\n",
      "execution_count": null,
      "outputs": []
    }
  ],
  "metadata": {
    "kernelspec": {
      "name": "python36",
      "display_name": "Python 3.6",
      "language": "python"
    },
    "language_info": {
      "mimetype": "text/x-python",
      "nbconvert_exporter": "python",
      "name": "python",
      "pygments_lexer": "ipython3",
      "version": "3.6.6",
      "file_extension": ".py",
      "codemirror_mode": {
        "version": 3,
        "name": "ipython"
      }
    }
  },
  "nbformat": 4,
  "nbformat_minor": 1
}