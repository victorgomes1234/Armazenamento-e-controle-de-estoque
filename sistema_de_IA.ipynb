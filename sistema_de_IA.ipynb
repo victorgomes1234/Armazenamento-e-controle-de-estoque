{
  "cells": [
    {
      "metadata": {
        "trusted": true
      },
      "cell_type": "code",
      "source": "#Importando a biblioteca que contrala asquivos de texto(tanto csv, txt, xlsx) pelo python.\nimport pandas as pd\n\n#Importando a biblioteca que verifica se o caminho do arquivo existe.\nimport os.path",
      "execution_count": null,
      "outputs": []
    },
    {
      "metadata": {
        "trusted": true
      },
      "cell_type": "code",
      "source": "print('Sitema de verificação cega iniciado!')\nprint('Digite o arquivo da nota no campo para da entrada.')\n\nnfe = input('Digite a note na qual quer da entrada: ');\n\ncheckPath = os.path.exists(f'{nfe}')\n\nif checkPath == False:\n   print('Nota não encontrada')\n   nfe = input('Digite a note na qual quer da entrada: ')\n\nelse:\n    print('Nota encontrada')\n    ",
      "execution_count": 5,
      "outputs": [
        {
          "output_type": "stream",
          "text": "Sitema de verificação cega iniciado!\nDigite o arquivo da nota no campo para da entrada.\nDigite a note na qual quer da entrada: teste.csv\nNota encontrada\n",
          "name": "stdout"
        }
      ]
    },
    {
      "metadata": {
        "trusted": true
      },
      "cell_type": "code",
      "source": "",
      "execution_count": null,
      "outputs": []
    }
  ],
  "metadata": {
    "kernelspec": {
      "name": "python36",
      "display_name": "Python 3.6",
      "language": "python"
    },
    "language_info": {
      "mimetype": "text/x-python",
      "nbconvert_exporter": "python",
      "name": "python",
      "pygments_lexer": "ipython3",
      "version": "3.6.6",
      "file_extension": ".py",
      "codemirror_mode": {
        "version": 3,
        "name": "ipython"
      }
    }
  },
  "nbformat": 4,
  "nbformat_minor": 1
}